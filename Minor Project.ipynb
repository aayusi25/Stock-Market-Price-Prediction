{
 "cells": [
  {
   "cell_type": "code",
   "execution_count": 2,
   "id": "b2c5fcb9",
   "metadata": {},
   "outputs": [],
   "source": [
    "#importing libraries\n",
    "import os\n",
    "import numpy as np\n",
    "import pandas as pd\n",
    "import matplotlib.pyplot as plt\n",
    "%matplotlib inline\n"
   ]
  },
  {
   "cell_type": "code",
   "execution_count": 3,
   "id": "ebbccc7e",
   "metadata": {},
   "outputs": [
    {
     "data": {
      "text/html": [
       "<div>\n",
       "<style scoped>\n",
       "    .dataframe tbody tr th:only-of-type {\n",
       "        vertical-align: middle;\n",
       "    }\n",
       "\n",
       "    .dataframe tbody tr th {\n",
       "        vertical-align: top;\n",
       "    }\n",
       "\n",
       "    .dataframe thead th {\n",
       "        text-align: right;\n",
       "    }\n",
       "</style>\n",
       "<table border=\"1\" class=\"dataframe\">\n",
       "  <thead>\n",
       "    <tr style=\"text-align: right;\">\n",
       "      <th></th>\n",
       "      <th>Date</th>\n",
       "      <th>Open</th>\n",
       "      <th>High</th>\n",
       "      <th>Low</th>\n",
       "      <th>Close</th>\n",
       "      <th>Adj Close</th>\n",
       "      <th>Volume</th>\n",
       "    </tr>\n",
       "  </thead>\n",
       "  <tbody>\n",
       "    <tr>\n",
       "      <th>0</th>\n",
       "      <td>2018-02-05</td>\n",
       "      <td>262.000000</td>\n",
       "      <td>267.899994</td>\n",
       "      <td>250.029999</td>\n",
       "      <td>254.259995</td>\n",
       "      <td>254.259995</td>\n",
       "      <td>11896100</td>\n",
       "    </tr>\n",
       "    <tr>\n",
       "      <th>1</th>\n",
       "      <td>2018-02-06</td>\n",
       "      <td>247.699997</td>\n",
       "      <td>266.700012</td>\n",
       "      <td>245.000000</td>\n",
       "      <td>265.720001</td>\n",
       "      <td>265.720001</td>\n",
       "      <td>12595800</td>\n",
       "    </tr>\n",
       "    <tr>\n",
       "      <th>2</th>\n",
       "      <td>2018-02-07</td>\n",
       "      <td>266.579987</td>\n",
       "      <td>272.450012</td>\n",
       "      <td>264.329987</td>\n",
       "      <td>264.559998</td>\n",
       "      <td>264.559998</td>\n",
       "      <td>8981500</td>\n",
       "    </tr>\n",
       "    <tr>\n",
       "      <th>3</th>\n",
       "      <td>2018-02-08</td>\n",
       "      <td>267.079987</td>\n",
       "      <td>267.619995</td>\n",
       "      <td>250.000000</td>\n",
       "      <td>250.100006</td>\n",
       "      <td>250.100006</td>\n",
       "      <td>9306700</td>\n",
       "    </tr>\n",
       "    <tr>\n",
       "      <th>4</th>\n",
       "      <td>2018-02-09</td>\n",
       "      <td>253.850006</td>\n",
       "      <td>255.800003</td>\n",
       "      <td>236.110001</td>\n",
       "      <td>249.470001</td>\n",
       "      <td>249.470001</td>\n",
       "      <td>16906900</td>\n",
       "    </tr>\n",
       "  </tbody>\n",
       "</table>\n",
       "</div>"
      ],
      "text/plain": [
       "         Date        Open        High         Low       Close   Adj Close  \\\n",
       "0  2018-02-05  262.000000  267.899994  250.029999  254.259995  254.259995   \n",
       "1  2018-02-06  247.699997  266.700012  245.000000  265.720001  265.720001   \n",
       "2  2018-02-07  266.579987  272.450012  264.329987  264.559998  264.559998   \n",
       "3  2018-02-08  267.079987  267.619995  250.000000  250.100006  250.100006   \n",
       "4  2018-02-09  253.850006  255.800003  236.110001  249.470001  249.470001   \n",
       "\n",
       "     Volume  \n",
       "0  11896100  \n",
       "1  12595800  \n",
       "2   8981500  \n",
       "3   9306700  \n",
       "4  16906900  "
      ]
     },
     "execution_count": 3,
     "metadata": {},
     "output_type": "execute_result"
    }
   ],
   "source": [
    "#loading data\n",
    "dataset_train = pd.read_csv(r\"C:\\Users\\LENOVO\\Desktop\\Major and Minore projects\\stock price dataset.csv\")\n",
    "dataset_train.head()"
   ]
  },
  {
   "cell_type": "code",
   "execution_count": 4,
   "id": "39c0c978",
   "metadata": {},
   "outputs": [
    {
     "name": "stdout",
     "output_type": "stream",
     "text": [
      "            Open\n",
      "0     262.000000\n",
      "1     247.699997\n",
      "2     266.579987\n",
      "3     267.079987\n",
      "4     253.850006\n",
      "...          ...\n",
      "1004  401.970001\n",
      "1005  432.959991\n",
      "1006  448.250000\n",
      "1007  421.440002\n",
      "1008  407.309998\n",
      "\n",
      "[1009 rows x 1 columns]\n",
      "(1009, 1)\n"
     ]
    }
   ],
   "source": [
    "training_set = dataset_train.iloc[:,1:2]\n",
    "print(training_set)\n",
    "print(training_set.shape)\n",
    "\n"
   ]
  },
  {
   "cell_type": "code",
   "execution_count": 5,
   "id": "0d84dc8a",
   "metadata": {},
   "outputs": [
    {
     "data": {
      "text/plain": [
       "array([[0.06125254],\n",
       "       [0.03005911],\n",
       "       [0.07124314],\n",
       "       ...,\n",
       "       [0.46753051],\n",
       "       [0.4090483 ],\n",
       "       [0.3782257 ]])"
      ]
     },
     "execution_count": 5,
     "metadata": {},
     "output_type": "execute_result"
    }
   ],
   "source": [
    "#normalizing the dataset\n",
    "from sklearn.preprocessing import MinMaxScaler\n",
    "\n",
    "scaler =MinMaxScaler(feature_range = (0,1))\n",
    "scaled_training_set = scaler.fit_transform(training_set)\n",
    "scaled_training_set"
   ]
  },
  {
   "cell_type": "code",
   "execution_count": 6,
   "id": "c0c4ca7f",
   "metadata": {},
   "outputs": [],
   "source": [
    "#Creating X_train and Y_train Data Structure\n",
    "\n",
    "X_train = []\n",
    "Y_train = []\n",
    "for i in range(60,1008):\n",
    "    X_train.append(scaled_training_set[i-60:i,0])\n",
    "    Y_train.append(scaled_training_set[i , 0])\n",
    "X_train = np.array(X_train)\n",
    "Y_train = np.array(Y_train)\n"
   ]
  },
  {
   "cell_type": "code",
   "execution_count": 7,
   "id": "894e795f",
   "metadata": {},
   "outputs": [
    {
     "name": "stdout",
     "output_type": "stream",
     "text": [
      "(948, 60)\n",
      "(948,)\n"
     ]
    }
   ],
   "source": [
    "print(X_train.shape)\n",
    "print(Y_train.shape)"
   ]
  },
  {
   "cell_type": "code",
   "execution_count": 8,
   "id": "5f43a72c",
   "metadata": {},
   "outputs": [
    {
     "data": {
      "text/plain": [
       "(948, 60, 1)"
      ]
     },
     "execution_count": 8,
     "metadata": {},
     "output_type": "execute_result"
    }
   ],
   "source": [
    "#REshaping the Data\n",
    "\n",
    "X_train = np.reshape(X_train,(X_train.shape[0], X_train.shape[1],1))\n",
    "X_train.shape\n"
   ]
  },
  {
   "cell_type": "code",
   "execution_count": 9,
   "id": "da04d592",
   "metadata": {},
   "outputs": [],
   "source": [
    "#Building the model by importing the crucial libraries and adding different layers to LSTM\n",
    "\n",
    "from keras.models import Sequential\n",
    "from keras.layers import LSTM\n",
    "from keras.layers import Dense\n",
    "from keras.layers import Dropout\n"
   ]
  },
  {
   "cell_type": "code",
   "execution_count": 10,
   "id": "1ab89c63",
   "metadata": {},
   "outputs": [],
   "source": [
    "regressor = Sequential()\n",
    "\n",
    "regressor.add(LSTM(units = 50, return_sequences = True, input_shape = (X_train.shape[1], 1)))\n",
    "regressor.add(Dropout(0.2))\n",
    "\n",
    "regressor.add(LSTM(units = 50, return_sequences = True))\n",
    "regressor.add(Dropout(0.2))\n",
    "\n",
    "regressor.add(LSTM(units = 50, return_sequences = True))\n",
    "regressor.add(Dropout(0.2))\n",
    "\n",
    "regressor.add(LSTM(units = 50))\n",
    "regressor.add(Dropout(0.2))\n",
    "\n",
    "regressor.add(Dense(units = 1))\n"
   ]
  },
  {
   "cell_type": "code",
   "execution_count": null,
   "id": "92f4126a",
   "metadata": {},
   "outputs": [
    {
     "name": "stdout",
     "output_type": "stream",
     "text": [
      "Epoch 1/100\n",
      "30/30 [==============================] - 92s 866ms/step - loss: 0.0392\n",
      "Epoch 2/100\n",
      "30/30 [==============================] - 23s 759ms/step - loss: 0.0098\n",
      "Epoch 3/100\n",
      "30/30 [==============================] - 34s 1s/step - loss: 0.0082\n",
      "Epoch 4/100\n",
      "30/30 [==============================] - 34s 1s/step - loss: 0.0071\n",
      "Epoch 5/100\n",
      "30/30 [==============================] - 50s 2s/step - loss: 0.0072\n",
      "Epoch 6/100\n",
      "30/30 [==============================] - 48s 2s/step - loss: 0.0075\n",
      "Epoch 7/100\n",
      "30/30 [==============================] - 27s 865ms/step - loss: 0.0064\n",
      "Epoch 8/100\n",
      "30/30 [==============================] - 21s 683ms/step - loss: 0.0068\n",
      "Epoch 9/100\n",
      "30/30 [==============================] - 20s 672ms/step - loss: 0.0068\n",
      "Epoch 10/100\n",
      "30/30 [==============================] - 21s 685ms/step - loss: 0.0072\n",
      "Epoch 11/100\n",
      "30/30 [==============================] - 21s 688ms/step - loss: 0.0058\n",
      "Epoch 12/100\n",
      "30/30 [==============================] - 21s 699ms/step - loss: 0.0056\n",
      "Epoch 13/100\n",
      "30/30 [==============================] - 20s 667ms/step - loss: 0.0054\n",
      "Epoch 14/100\n",
      "30/30 [==============================] - 36s 1s/step - loss: 0.0066\n",
      "Epoch 15/100\n",
      "30/30 [==============================] - 25s 816ms/step - loss: 0.0051\n",
      "Epoch 16/100\n",
      "30/30 [==============================] - 23s 765ms/step - loss: 0.0048\n",
      "Epoch 17/100\n",
      "30/30 [==============================] - 24s 806ms/step - loss: 0.0057\n",
      "Epoch 18/100\n",
      "30/30 [==============================] - 25s 829ms/step - loss: 0.0052\n",
      "Epoch 19/100\n",
      "30/30 [==============================] - 26s 880ms/step - loss: 0.0051\n",
      "Epoch 20/100\n",
      "30/30 [==============================] - 25s 844ms/step - loss: 0.0045\n",
      "Epoch 21/100\n",
      "30/30 [==============================] - 26s 880ms/step - loss: 0.0049\n",
      "Epoch 22/100\n",
      "30/30 [==============================] - 23s 758ms/step - loss: 0.0047\n",
      "Epoch 23/100\n",
      "30/30 [==============================] - 26s 850ms/step - loss: 0.0044\n",
      "Epoch 24/100\n",
      "30/30 [==============================] - 25s 830ms/step - loss: 0.0044\n",
      "Epoch 25/100\n",
      "30/30 [==============================] - 25s 819ms/step - loss: 0.0041\n",
      "Epoch 26/100\n",
      "30/30 [==============================] - 25s 816ms/step - loss: 0.0042\n",
      "Epoch 27/100\n",
      "30/30 [==============================] - 22s 746ms/step - loss: 0.0040\n",
      "Epoch 28/100\n",
      "30/30 [==============================] - 24s 806ms/step - loss: 0.0040\n",
      "Epoch 29/100\n",
      "30/30 [==============================] - 23s 773ms/step - loss: 0.0037\n",
      "Epoch 30/100\n",
      "30/30 [==============================] - 26s 882ms/step - loss: 0.0037\n",
      "Epoch 31/100\n",
      "30/30 [==============================] - 25s 812ms/step - loss: 0.0049\n",
      "Epoch 32/100\n",
      "30/30 [==============================] - 23s 763ms/step - loss: 0.0047\n",
      "Epoch 33/100\n",
      "30/30 [==============================] - 23s 759ms/step - loss: 0.0039\n",
      "Epoch 34/100\n",
      "30/30 [==============================] - 22s 731ms/step - loss: 0.0038\n",
      "Epoch 35/100\n",
      "30/30 [==============================] - 23s 760ms/step - loss: 0.0038\n",
      "Epoch 36/100\n",
      "30/30 [==============================] - 22s 747ms/step - loss: 0.0038\n",
      "Epoch 37/100\n",
      "30/30 [==============================] - 21s 715ms/step - loss: 0.0038\n",
      "Epoch 38/100\n",
      "30/30 [==============================] - 21s 712ms/step - loss: 0.0037\n",
      "Epoch 39/100\n",
      "30/30 [==============================] - 22s 727ms/step - loss: 0.0036\n",
      "Epoch 40/100\n",
      "30/30 [==============================] - 22s 721ms/step - loss: 0.0036\n",
      "Epoch 41/100\n",
      "30/30 [==============================] - 22s 721ms/step - loss: 0.0036\n",
      "Epoch 42/100\n",
      "30/30 [==============================] - 24s 812ms/step - loss: 0.0032\n",
      "Epoch 43/100\n",
      "30/30 [==============================] - 30s 990ms/step - loss: 0.0031\n",
      "Epoch 44/100\n",
      " 7/30 [======>.......................] - ETA: 27s - loss: 0.0031"
     ]
    }
   ],
   "source": [
    "#Fitting the model\n",
    "\n",
    "regressor.compile(optimizer = 'adam',loss = 'mean_squared_error')\n",
    "regressor.fit(X_train, Y_train, epochs = 100, batch_size=32)"
   ]
  },
  {
   "cell_type": "code",
   "execution_count": null,
   "id": "1998a02a",
   "metadata": {},
   "outputs": [],
   "source": [
    "#Extracting the actual stock price \n",
    "\n",
    "dataset_test = pd.read_csv(r\"C:\\Users\\LENOVO\\Desktop\\Major and Minore projects\\stock price dataset.csv\")\n",
    "actual_stock_price = dataset_test.iloc[:,1:2].values"
   ]
  },
  {
   "cell_type": "code",
   "execution_count": null,
   "id": "11ac0ef8",
   "metadata": {},
   "outputs": [],
   "source": [
    "#preparing the input for the model\n",
    "\n",
    "dataset_total = pd.concat((dataset_train['Open'],dataset_test['Open']),axis = 0)\n",
    "inputs = dataset_total[len(dataset_total)-len(dataset_test)-60:].values\n",
    "\n",
    "inputs = inputs.reshape(-1,1)\n",
    "inputs = scaler.transform(inputs)\n",
    "\n",
    "X_test = []\n",
    "for i in range(60,80):\n",
    "    X_test.append(inputs[i-60:i,0])\n",
    "X_test = np.array(X_test)\n",
    "X_test = np.reshape(X_test,(X_test.shape[0], X_test.shape[1],1))\n",
    "    "
   ]
  },
  {
   "cell_type": "code",
   "execution_count": null,
   "id": "babfb1fe",
   "metadata": {},
   "outputs": [],
   "source": [
    "#predicting stock price\n",
    "\n",
    "predicted_stock_price = regressor.predict(X_test)\n",
    "predicted_stock_price = scaler.inverse_transform(predicted_stock_price)\n",
    "\n"
   ]
  },
  {
   "cell_type": "code",
   "execution_count": null,
   "id": "0118f6a8",
   "metadata": {},
   "outputs": [],
   "source": [
    "#Plotting the actual and predicted priced\n",
    "\n",
    "plt.plot(actual_stock_price, color = 'red', label = 'Actual Stock Price')\n",
    "plt.plot(predicted_stock_price, color = 'blue', label = 'Predicted Stock Price')\n",
    "plt.title('Stock Price Prediction')\n",
    "plt.xlabel('Time')\n",
    "plt.ylabel('Stock Price')\n",
    "plt.legend()"
   ]
  }
 ],
 "metadata": {
  "kernelspec": {
   "display_name": "Python 3 (ipykernel)",
   "language": "python",
   "name": "python3"
  },
  "language_info": {
   "codemirror_mode": {
    "name": "ipython",
    "version": 3
   },
   "file_extension": ".py",
   "mimetype": "text/x-python",
   "name": "python",
   "nbconvert_exporter": "python",
   "pygments_lexer": "ipython3",
   "version": "3.9.12"
  }
 },
 "nbformat": 4,
 "nbformat_minor": 5
}
